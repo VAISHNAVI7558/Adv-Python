{
 "cells": [
  {
   "cell_type": "markdown",
   "id": "55c3dc10",
   "metadata": {},
   "source": [
    "### Polymorphism in operators"
   ]
  },
  {
   "cell_type": "code",
   "execution_count": null,
   "id": "a7f1f2a7",
   "metadata": {},
   "outputs": [
    {
     "data": {
      "text/plain": [
       "57"
      ]
     },
     "execution_count": 1,
     "metadata": {},
     "output_type": "execute_result"
    }
   ],
   "source": [
    "12 + 45    # int "
   ]
  },
  {
   "cell_type": "code",
   "execution_count": 2,
   "id": "97a037ea",
   "metadata": {},
   "outputs": [
    {
     "data": {
      "text/plain": [
       "58.010000000000005"
      ]
     },
     "execution_count": 2,
     "metadata": {},
     "output_type": "execute_result"
    }
   ],
   "source": [
    "34.45 + 23.56 # float"
   ]
  },
  {
   "cell_type": "code",
   "execution_count": 3,
   "id": "3d96e6ed",
   "metadata": {},
   "outputs": [
    {
     "data": {
      "text/plain": [
       "'datascience'"
      ]
     },
     "execution_count": 3,
     "metadata": {},
     "output_type": "execute_result"
    }
   ],
   "source": [
    "'data' + '' + 'science' # str"
   ]
  },
  {
   "cell_type": "code",
   "execution_count": 4,
   "id": "f82863a7",
   "metadata": {},
   "outputs": [
    {
     "data": {
      "text/plain": [
       "(12, 3, 5, 6, 34, 56, 78)"
      ]
     },
     "execution_count": 4,
     "metadata": {},
     "output_type": "execute_result"
    }
   ],
   "source": [
    "(12, 3, 5, 6) + (34, 56, 78) #tuple"
   ]
  },
  {
   "cell_type": "code",
   "execution_count": 5,
   "id": "b8bbc214",
   "metadata": {},
   "outputs": [
    {
     "data": {
      "text/plain": [
       "408"
      ]
     },
     "execution_count": 5,
     "metadata": {},
     "output_type": "execute_result"
    }
   ],
   "source": [
    "12 * 34"
   ]
  },
  {
   "cell_type": "code",
   "execution_count": 6,
   "id": "c9ede833",
   "metadata": {},
   "outputs": [
    {
     "data": {
      "text/plain": [
       "[1, 3, 5, 1, 3, 5, 1, 3, 5]"
      ]
     },
     "execution_count": 6,
     "metadata": {},
     "output_type": "execute_result"
    }
   ],
   "source": [
    "[1,3,5]*3"
   ]
  },
  {
   "cell_type": "code",
   "execution_count": 7,
   "id": "019188db",
   "metadata": {},
   "outputs": [
    {
     "data": {
      "text/plain": [
       "'pythonpythonpython'"
      ]
     },
     "execution_count": 7,
     "metadata": {},
     "output_type": "execute_result"
    }
   ],
   "source": [
    "'python'*3"
   ]
  },
  {
   "cell_type": "code",
   "execution_count": 8,
   "id": "4f35c0ec",
   "metadata": {},
   "outputs": [
    {
     "data": {
      "text/plain": [
       "6"
      ]
     },
     "execution_count": 8,
     "metadata": {},
     "output_type": "execute_result"
    }
   ],
   "source": [
    "s = 'python'\n",
    "len(s)"
   ]
  },
  {
   "cell_type": "code",
   "execution_count": 9,
   "id": "76207904",
   "metadata": {},
   "outputs": [
    {
     "data": {
      "text/plain": [
       "3"
      ]
     },
     "execution_count": 9,
     "metadata": {},
     "output_type": "execute_result"
    }
   ],
   "source": [
    "l = [2,4,6]\n",
    "len(l)"
   ]
  },
  {
   "cell_type": "code",
   "execution_count": 10,
   "id": "b37a53f3",
   "metadata": {},
   "outputs": [
    {
     "data": {
      "text/plain": [
       "3"
      ]
     },
     "execution_count": 10,
     "metadata": {},
     "output_type": "execute_result"
    }
   ],
   "source": [
    "t=(3,5,6)\n",
    "len(t)"
   ]
  },
  {
   "cell_type": "code",
   "execution_count": 11,
   "id": "7b01d2c2",
   "metadata": {},
   "outputs": [
    {
     "data": {
      "text/plain": [
       "4"
      ]
     },
     "execution_count": 11,
     "metadata": {},
     "output_type": "execute_result"
    }
   ],
   "source": [
    "s1 = {2,3,4,4,5,5,}\n",
    "len(s1)"
   ]
  },
  {
   "cell_type": "code",
   "execution_count": 2,
   "id": "a72e0bc0",
   "metadata": {},
   "outputs": [],
   "source": [
    "d = {'name' : ['sunita','neeta' , 'geeta'],\n",
    "'age' : [23,45,34]}"
   ]
  },
  {
   "cell_type": "code",
   "execution_count": 3,
   "id": "c69890f0",
   "metadata": {},
   "outputs": [
    {
     "data": {
      "text/plain": [
       "2"
      ]
     },
     "execution_count": 3,
     "metadata": {},
     "output_type": "execute_result"
    }
   ],
   "source": [
    "len(d)"
   ]
  },
  {
   "cell_type": "code",
   "execution_count": 4,
   "id": "c1e715da",
   "metadata": {},
   "outputs": [],
   "source": [
    "import pandas as pd"
   ]
  },
  {
   "cell_type": "code",
   "execution_count": 5,
   "id": "c25bf0f8",
   "metadata": {},
   "outputs": [
    {
     "data": {
      "text/html": [
       "<div>\n",
       "<style scoped>\n",
       "    .dataframe tbody tr th:only-of-type {\n",
       "        vertical-align: middle;\n",
       "    }\n",
       "\n",
       "    .dataframe tbody tr th {\n",
       "        vertical-align: top;\n",
       "    }\n",
       "\n",
       "    .dataframe thead th {\n",
       "        text-align: right;\n",
       "    }\n",
       "</style>\n",
       "<table border=\"1\" class=\"dataframe\">\n",
       "  <thead>\n",
       "    <tr style=\"text-align: right;\">\n",
       "      <th></th>\n",
       "      <th>name</th>\n",
       "      <th>age</th>\n",
       "    </tr>\n",
       "  </thead>\n",
       "  <tbody>\n",
       "    <tr>\n",
       "      <th>0</th>\n",
       "      <td>sunita</td>\n",
       "      <td>23</td>\n",
       "    </tr>\n",
       "    <tr>\n",
       "      <th>1</th>\n",
       "      <td>neeta</td>\n",
       "      <td>45</td>\n",
       "    </tr>\n",
       "    <tr>\n",
       "      <th>2</th>\n",
       "      <td>geeta</td>\n",
       "      <td>34</td>\n",
       "    </tr>\n",
       "  </tbody>\n",
       "</table>\n",
       "</div>"
      ],
      "text/plain": [
       "     name  age\n",
       "0  sunita   23\n",
       "1   neeta   45\n",
       "2   geeta   34"
      ]
     },
     "execution_count": 5,
     "metadata": {},
     "output_type": "execute_result"
    }
   ],
   "source": [
    "df = pd.DataFrame(d)\n",
    "df"
   ]
  },
  {
   "cell_type": "code",
   "execution_count": 6,
   "id": "73530085",
   "metadata": {},
   "outputs": [
    {
     "data": {
      "text/plain": [
       "3"
      ]
     },
     "execution_count": 6,
     "metadata": {},
     "output_type": "execute_result"
    }
   ],
   "source": [
    "len(df)"
   ]
  },
  {
   "cell_type": "code",
   "execution_count": null,
   "id": "c2b5350a",
   "metadata": {},
   "outputs": [],
   "source": []
  },
  {
   "cell_type": "markdown",
   "id": "4b673154",
   "metadata": {},
   "source": [
    "### Polymorphism in class"
   ]
  },
  {
   "cell_type": "markdown",
   "id": "dd76138a",
   "metadata": {},
   "source": [
    "#- create class with contry and capital and langauage"
   ]
  },
  {
   "cell_type": "code",
   "execution_count": 7,
   "id": "354c3be2",
   "metadata": {},
   "outputs": [],
   "source": [
    "class India:\n",
    "    # capital\n",
    "    def Capital(self):\n",
    "        print(\"Capital of india is new delhi\")\n",
    "\n",
    "    # Language\n",
    "    def Language(self):\n",
    "        print(\"Hindi is  widely spoken  language  in India\")\n",
    "\n",
    "    # Frace\n",
    "class France:\n",
    "    def Capital(self):\n",
    "        print(\"Capital  od France  is  Paris\")\n",
    "    \n",
    "    def Language(self):\n",
    "        print(\"french is the widely spoken  language in france\")\n",
    "\n",
    "\n",
    "# USA\n",
    "class  USA:\n",
    "    def Capital(self):\n",
    "        print(\"capital  of  USA is  Washington D.C\")\n",
    "\n",
    "\n",
    "    # Language\n",
    "    def Language(self):\n",
    "        print(' English is  the widely spoken  language  in USA ')"
   ]
  },
  {
   "cell_type": "code",
   "execution_count": 8,
   "id": "6c80f58b",
   "metadata": {},
   "outputs": [],
   "source": [
    "I =India()"
   ]
  },
  {
   "cell_type": "code",
   "execution_count": 9,
   "id": "349d7806",
   "metadata": {},
   "outputs": [
    {
     "name": "stdout",
     "output_type": "stream",
     "text": [
      "Hindi is  widely spoken  language  in India\n"
     ]
    }
   ],
   "source": [
    "I.Language()\n"
   ]
  },
  {
   "cell_type": "code",
   "execution_count": 10,
   "id": "27543157",
   "metadata": {},
   "outputs": [
    {
     "name": "stdout",
     "output_type": "stream",
     "text": [
      "Capital of india is new delhi\n"
     ]
    }
   ],
   "source": [
    "I.Capital()"
   ]
  },
  {
   "cell_type": "code",
   "execution_count": 11,
   "id": "0ebce094",
   "metadata": {},
   "outputs": [],
   "source": [
    "F  =  France()"
   ]
  },
  {
   "cell_type": "code",
   "execution_count": 12,
   "id": "99d806e8",
   "metadata": {},
   "outputs": [
    {
     "name": "stdout",
     "output_type": "stream",
     "text": [
      "Capital  od France  is  Paris\n"
     ]
    }
   ],
   "source": [
    "F.Capital()"
   ]
  },
  {
   "cell_type": "code",
   "execution_count": 13,
   "id": "ecfa9e32",
   "metadata": {},
   "outputs": [
    {
     "name": "stdout",
     "output_type": "stream",
     "text": [
      "french is the widely spoken  language in france\n"
     ]
    }
   ],
   "source": [
    "F.Language()"
   ]
  },
  {
   "cell_type": "code",
   "execution_count": 14,
   "id": "412237d4",
   "metadata": {},
   "outputs": [],
   "source": [
    "us =  USA()"
   ]
  },
  {
   "cell_type": "code",
   "execution_count": 15,
   "id": "764c024a",
   "metadata": {},
   "outputs": [
    {
     "name": "stdout",
     "output_type": "stream",
     "text": [
      "capital  of  USA is  Washington D.C\n"
     ]
    }
   ],
   "source": [
    "us.Capital()"
   ]
  },
  {
   "cell_type": "code",
   "execution_count": 16,
   "id": "c7ba741b",
   "metadata": {},
   "outputs": [
    {
     "name": "stdout",
     "output_type": "stream",
     "text": [
      " English is  the widely spoken  language  in USA \n"
     ]
    }
   ],
   "source": [
    "us.Language()"
   ]
  },
  {
   "cell_type": "markdown",
   "id": "87c4b33e",
   "metadata": {},
   "source": [
    "### Create class rectange , Circle\n",
    "- Area , Perimeter"
   ]
  },
  {
   "cell_type": "code",
   "execution_count": null,
   "id": "a0298cab",
   "metadata": {},
   "outputs": [],
   "source": []
  },
  {
   "cell_type": "code",
   "execution_count": null,
   "id": "c6389bc9",
   "metadata": {},
   "outputs": [],
   "source": []
  },
  {
   "cell_type": "code",
   "execution_count": null,
   "id": "d5b2f230",
   "metadata": {},
   "outputs": [],
   "source": []
  },
  {
   "cell_type": "code",
   "execution_count": null,
   "id": "6219996f",
   "metadata": {},
   "outputs": [],
   "source": []
  },
  {
   "cell_type": "code",
   "execution_count": null,
   "id": "c56d5261",
   "metadata": {},
   "outputs": [],
   "source": []
  },
  {
   "cell_type": "code",
   "execution_count": null,
   "id": "69b6a25a",
   "metadata": {},
   "outputs": [],
   "source": []
  },
  {
   "cell_type": "code",
   "execution_count": null,
   "id": "9c1478f1",
   "metadata": {},
   "outputs": [],
   "source": []
  },
  {
   "cell_type": "code",
   "execution_count": null,
   "id": "cae760c3",
   "metadata": {},
   "outputs": [],
   "source": []
  },
  {
   "cell_type": "code",
   "execution_count": null,
   "id": "5534f418",
   "metadata": {},
   "outputs": [],
   "source": []
  },
  {
   "cell_type": "code",
   "execution_count": null,
   "id": "5ad1141a",
   "metadata": {},
   "outputs": [],
   "source": []
  },
  {
   "cell_type": "code",
   "execution_count": null,
   "id": "6d7927aa",
   "metadata": {},
   "outputs": [],
   "source": []
  },
  {
   "cell_type": "code",
   "execution_count": null,
   "id": "a37c0173",
   "metadata": {},
   "outputs": [],
   "source": []
  },
  {
   "cell_type": "code",
   "execution_count": null,
   "id": "84f7cdf8",
   "metadata": {},
   "outputs": [],
   "source": []
  },
  {
   "cell_type": "code",
   "execution_count": null,
   "id": "43931cff",
   "metadata": {},
   "outputs": [],
   "source": []
  },
  {
   "cell_type": "code",
   "execution_count": null,
   "id": "cb466382",
   "metadata": {},
   "outputs": [],
   "source": []
  },
  {
   "cell_type": "code",
   "execution_count": null,
   "id": "36702afd",
   "metadata": {},
   "outputs": [],
   "source": []
  },
  {
   "cell_type": "code",
   "execution_count": null,
   "id": "03929378",
   "metadata": {},
   "outputs": [],
   "source": []
  },
  {
   "cell_type": "code",
   "execution_count": null,
   "id": "37de6992",
   "metadata": {},
   "outputs": [],
   "source": []
  },
  {
   "cell_type": "code",
   "execution_count": null,
   "id": "2b715b0d",
   "metadata": {},
   "outputs": [],
   "source": []
  },
  {
   "cell_type": "code",
   "execution_count": null,
   "id": "bfac9995",
   "metadata": {},
   "outputs": [],
   "source": []
  },
  {
   "cell_type": "code",
   "execution_count": null,
   "id": "b725a6bd",
   "metadata": {},
   "outputs": [],
   "source": []
  },
  {
   "cell_type": "code",
   "execution_count": null,
   "id": "f864d694",
   "metadata": {},
   "outputs": [],
   "source": []
  },
  {
   "cell_type": "code",
   "execution_count": null,
   "id": "cdb4a0d3",
   "metadata": {},
   "outputs": [],
   "source": []
  },
  {
   "cell_type": "code",
   "execution_count": null,
   "id": "0c6fa400",
   "metadata": {},
   "outputs": [],
   "source": []
  },
  {
   "cell_type": "code",
   "execution_count": null,
   "id": "faabfbec",
   "metadata": {},
   "outputs": [],
   "source": []
  }
 ],
 "metadata": {
  "kernelspec": {
   "display_name": "venv",
   "language": "python",
   "name": "python3"
  },
  "language_info": {
   "codemirror_mode": {
    "name": "ipython",
    "version": 3
   },
   "file_extension": ".py",
   "mimetype": "text/x-python",
   "name": "python",
   "nbconvert_exporter": "python",
   "pygments_lexer": "ipython3",
   "version": "3.13.7"
  }
 },
 "nbformat": 4,
 "nbformat_minor": 5
}
