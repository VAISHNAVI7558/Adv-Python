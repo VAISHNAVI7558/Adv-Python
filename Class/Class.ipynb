{
 "cells": [
  {
   "cell_type": "code",
   "execution_count": 3,
   "id": "32c62ebd",
   "metadata": {},
   "outputs": [
    {
     "name": "stdout",
     "output_type": "stream",
     "text": [
      "<class 'str'>\n"
     ]
    }
   ],
   "source": [
    "a =  'Swara'\n",
    "print(type(a))"
   ]
  },
  {
   "cell_type": "code",
   "execution_count": 4,
   "id": "e03be59d",
   "metadata": {},
   "outputs": [
    {
     "name": "stdout",
     "output_type": "stream",
     "text": [
      "<class 'int'>\n"
     ]
    }
   ],
   "source": [
    "num  =  34\n",
    "print(type(num))"
   ]
  },
  {
   "cell_type": "code",
   "execution_count": 5,
   "id": "4fd651c6",
   "metadata": {},
   "outputs": [
    {
     "name": "stdout",
     "output_type": "stream",
     "text": [
      "<class 'float'>\n"
     ]
    }
   ],
   "source": [
    "num2  = 34.87\n",
    "print(type(num2))"
   ]
  },
  {
   "cell_type": "code",
   "execution_count": 6,
   "id": "61d417fc",
   "metadata": {},
   "outputs": [
    {
     "name": "stdout",
     "output_type": "stream",
     "text": [
      "<class 'bool'>\n"
     ]
    }
   ],
   "source": [
    "b  =  True\n",
    "print(type(b))"
   ]
  },
  {
   "cell_type": "code",
   "execution_count": 7,
   "id": "4aefa7ea",
   "metadata": {},
   "outputs": [
    {
     "name": "stdout",
     "output_type": "stream",
     "text": [
      "<class 'list'>\n"
     ]
    }
   ],
   "source": [
    "l =  [12,87,45,6]\n",
    "print(type(l))"
   ]
  },
  {
   "cell_type": "code",
   "execution_count": 8,
   "id": "1d58ac2a",
   "metadata": {},
   "outputs": [
    {
     "name": "stdout",
     "output_type": "stream",
     "text": [
      "<class 'tuple'>\n"
     ]
    }
   ],
   "source": [
    "t =  (12,87,45,6 ,  True  , 'Python')\n",
    "print(type(t))"
   ]
  },
  {
   "cell_type": "code",
   "execution_count": 9,
   "id": "2e17a1b2",
   "metadata": {},
   "outputs": [
    {
     "name": "stdout",
     "output_type": "stream",
     "text": [
      "<class 'set'>\n"
     ]
    }
   ],
   "source": [
    "s =  {23 ,45,7,67}\n",
    "print(type(s))"
   ]
  },
  {
   "cell_type": "code",
   "execution_count": 10,
   "id": "6f4205ca",
   "metadata": {},
   "outputs": [],
   "source": [
    "info  = {\"Name\" : ['Prajakta' ,  'sarthak' ,  'Adarsh'] ,  \n",
    "\"Age\"  : [23  , 24  , 10]}"
   ]
  },
  {
   "cell_type": "code",
   "execution_count": 11,
   "id": "56da3ed0",
   "metadata": {},
   "outputs": [
    {
     "name": "stdout",
     "output_type": "stream",
     "text": [
      "<class 'dict'>\n"
     ]
    }
   ],
   "source": [
    "print(type(info))"
   ]
  },
  {
   "cell_type": "code",
   "execution_count": 12,
   "id": "b802721f",
   "metadata": {},
   "outputs": [],
   "source": [
    "import  pandas as pd"
   ]
  },
  {
   "cell_type": "code",
   "execution_count": 13,
   "id": "f5790c56",
   "metadata": {},
   "outputs": [],
   "source": [
    "df  =  pd.DataFrame(info)"
   ]
  },
  {
   "cell_type": "code",
   "execution_count": 14,
   "id": "1baf65cc",
   "metadata": {},
   "outputs": [
    {
     "data": {
      "text/html": [
       "<div>\n",
       "<style scoped>\n",
       "    .dataframe tbody tr th:only-of-type {\n",
       "        vertical-align: middle;\n",
       "    }\n",
       "\n",
       "    .dataframe tbody tr th {\n",
       "        vertical-align: top;\n",
       "    }\n",
       "\n",
       "    .dataframe thead th {\n",
       "        text-align: right;\n",
       "    }\n",
       "</style>\n",
       "<table border=\"1\" class=\"dataframe\">\n",
       "  <thead>\n",
       "    <tr style=\"text-align: right;\">\n",
       "      <th></th>\n",
       "      <th>Name</th>\n",
       "      <th>Age</th>\n",
       "    </tr>\n",
       "  </thead>\n",
       "  <tbody>\n",
       "    <tr>\n",
       "      <th>0</th>\n",
       "      <td>Prajakta</td>\n",
       "      <td>23</td>\n",
       "    </tr>\n",
       "    <tr>\n",
       "      <th>1</th>\n",
       "      <td>sarthak</td>\n",
       "      <td>24</td>\n",
       "    </tr>\n",
       "    <tr>\n",
       "      <th>2</th>\n",
       "      <td>Adarsh</td>\n",
       "      <td>10</td>\n",
       "    </tr>\n",
       "  </tbody>\n",
       "</table>\n",
       "</div>"
      ],
      "text/plain": [
       "       Name  Age\n",
       "0  Prajakta   23\n",
       "1   sarthak   24\n",
       "2    Adarsh   10"
      ]
     },
     "execution_count": 14,
     "metadata": {},
     "output_type": "execute_result"
    }
   ],
   "source": [
    "df"
   ]
  },
  {
   "cell_type": "code",
   "execution_count": null,
   "id": "b65f9641",
   "metadata": {},
   "outputs": [],
   "source": []
  },
  {
   "cell_type": "code",
   "execution_count": 15,
   "id": "03ed6b56",
   "metadata": {},
   "outputs": [
    {
     "name": "stdout",
     "output_type": "stream",
     "text": [
      "<class 'pandas.core.frame.DataFrame'>\n"
     ]
    }
   ],
   "source": [
    "print(type(df))\n"
   ]
  },
  {
   "cell_type": "markdown",
   "id": "f9f95582",
   "metadata": {},
   "source": [
    "##### Attributes\n",
    "- Shape\n",
    "- Columns\n",
    "- Index\n",
    "- Size\n",
    "- Dtype\n",
    "- Values"
   ]
  },
  {
   "cell_type": "code",
   "execution_count": 16,
   "id": "46c0b445",
   "metadata": {},
   "outputs": [
    {
     "data": {
      "text/plain": [
       "(3, 2)"
      ]
     },
     "execution_count": 16,
     "metadata": {},
     "output_type": "execute_result"
    }
   ],
   "source": [
    "df.shape"
   ]
  },
  {
   "cell_type": "code",
   "execution_count": 17,
   "id": "cbd426f3",
   "metadata": {},
   "outputs": [
    {
     "data": {
      "text/plain": [
       "6"
      ]
     },
     "execution_count": 17,
     "metadata": {},
     "output_type": "execute_result"
    }
   ],
   "source": [
    "df.size"
   ]
  },
  {
   "cell_type": "code",
   "execution_count": 18,
   "id": "f551c8aa",
   "metadata": {},
   "outputs": [
    {
     "data": {
      "text/plain": [
       "Name    object\n",
       "Age      int64\n",
       "dtype: object"
      ]
     },
     "execution_count": 18,
     "metadata": {},
     "output_type": "execute_result"
    }
   ],
   "source": [
    "df.dtypes"
   ]
  },
  {
   "cell_type": "code",
   "execution_count": 19,
   "id": "d7f750e2",
   "metadata": {},
   "outputs": [
    {
     "data": {
      "text/plain": [
       "Index(['Name', 'Age'], dtype='object')"
      ]
     },
     "execution_count": 19,
     "metadata": {},
     "output_type": "execute_result"
    }
   ],
   "source": [
    "df.columns"
   ]
  },
  {
   "cell_type": "code",
   "execution_count": 20,
   "id": "5adaacf0",
   "metadata": {},
   "outputs": [
    {
     "data": {
      "text/plain": [
       "array([['Prajakta', 23],\n",
       "       ['sarthak', 24],\n",
       "       ['Adarsh', 10]], dtype=object)"
      ]
     },
     "execution_count": 20,
     "metadata": {},
     "output_type": "execute_result"
    }
   ],
   "source": [
    "df.values"
   ]
  },
  {
   "cell_type": "code",
   "execution_count": 21,
   "id": "4134302c",
   "metadata": {},
   "outputs": [
    {
     "data": {
      "text/plain": [
       "RangeIndex(start=0, stop=3, step=1)"
      ]
     },
     "execution_count": 21,
     "metadata": {},
     "output_type": "execute_result"
    }
   ],
   "source": [
    "df.index"
   ]
  },
  {
   "cell_type": "markdown",
   "id": "5f842383",
   "metadata": {},
   "source": [
    "### Methods / functions\n",
    "- info()\n",
    "- head()\n",
    "- tail()\n",
    "- sum()\n",
    "- sort_values()"
   ]
  },
  {
   "cell_type": "code",
   "execution_count": 22,
   "id": "7a49ebf6",
   "metadata": {},
   "outputs": [
    {
     "name": "stdout",
     "output_type": "stream",
     "text": [
      "<class 'pandas.core.frame.DataFrame'>\n",
      "RangeIndex: 3 entries, 0 to 2\n",
      "Data columns (total 2 columns):\n",
      " #   Column  Non-Null Count  Dtype \n",
      "---  ------  --------------  ----- \n",
      " 0   Name    3 non-null      object\n",
      " 1   Age     3 non-null      int64 \n",
      "dtypes: int64(1), object(1)\n",
      "memory usage: 180.0+ bytes\n"
     ]
    }
   ],
   "source": [
    "df.info()"
   ]
  },
  {
   "cell_type": "code",
   "execution_count": 23,
   "id": "216111f5",
   "metadata": {},
   "outputs": [
    {
     "data": {
      "text/html": [
       "<div>\n",
       "<style scoped>\n",
       "    .dataframe tbody tr th:only-of-type {\n",
       "        vertical-align: middle;\n",
       "    }\n",
       "\n",
       "    .dataframe tbody tr th {\n",
       "        vertical-align: top;\n",
       "    }\n",
       "\n",
       "    .dataframe thead th {\n",
       "        text-align: right;\n",
       "    }\n",
       "</style>\n",
       "<table border=\"1\" class=\"dataframe\">\n",
       "  <thead>\n",
       "    <tr style=\"text-align: right;\">\n",
       "      <th></th>\n",
       "      <th>Name</th>\n",
       "      <th>Age</th>\n",
       "    </tr>\n",
       "  </thead>\n",
       "  <tbody>\n",
       "    <tr>\n",
       "      <th>0</th>\n",
       "      <td>Prajakta</td>\n",
       "      <td>23</td>\n",
       "    </tr>\n",
       "    <tr>\n",
       "      <th>1</th>\n",
       "      <td>sarthak</td>\n",
       "      <td>24</td>\n",
       "    </tr>\n",
       "    <tr>\n",
       "      <th>2</th>\n",
       "      <td>Adarsh</td>\n",
       "      <td>10</td>\n",
       "    </tr>\n",
       "  </tbody>\n",
       "</table>\n",
       "</div>"
      ],
      "text/plain": [
       "       Name  Age\n",
       "0  Prajakta   23\n",
       "1   sarthak   24\n",
       "2    Adarsh   10"
      ]
     },
     "execution_count": 23,
     "metadata": {},
     "output_type": "execute_result"
    }
   ],
   "source": [
    "df.head(  )"
   ]
  },
  {
   "cell_type": "code",
   "execution_count": 24,
   "id": "7a75eafa",
   "metadata": {},
   "outputs": [
    {
     "data": {
      "text/html": [
       "<div>\n",
       "<style scoped>\n",
       "    .dataframe tbody tr th:only-of-type {\n",
       "        vertical-align: middle;\n",
       "    }\n",
       "\n",
       "    .dataframe tbody tr th {\n",
       "        vertical-align: top;\n",
       "    }\n",
       "\n",
       "    .dataframe thead th {\n",
       "        text-align: right;\n",
       "    }\n",
       "</style>\n",
       "<table border=\"1\" class=\"dataframe\">\n",
       "  <thead>\n",
       "    <tr style=\"text-align: right;\">\n",
       "      <th></th>\n",
       "      <th>Name</th>\n",
       "      <th>Age</th>\n",
       "    </tr>\n",
       "  </thead>\n",
       "  <tbody>\n",
       "    <tr>\n",
       "      <th>2</th>\n",
       "      <td>Adarsh</td>\n",
       "      <td>10</td>\n",
       "    </tr>\n",
       "  </tbody>\n",
       "</table>\n",
       "</div>"
      ],
      "text/plain": [
       "     Name  Age\n",
       "2  Adarsh   10"
      ]
     },
     "execution_count": 24,
     "metadata": {},
     "output_type": "execute_result"
    }
   ],
   "source": [
    "df.tail(1) "
   ]
  },
  {
   "cell_type": "code",
   "execution_count": 25,
   "id": "04a2f064",
   "metadata": {},
   "outputs": [],
   "source": [
    "def add(x,  y  = 34):\n",
    "    return  x+y"
   ]
  },
  {
   "cell_type": "code",
   "execution_count": 26,
   "id": "28651b43",
   "metadata": {},
   "outputs": [
    {
     "data": {
      "text/plain": [
       "78"
      ]
     },
     "execution_count": 26,
     "metadata": {},
     "output_type": "execute_result"
    }
   ],
   "source": [
    "add(23,  55)"
   ]
  },
  {
   "cell_type": "code",
   "execution_count": 27,
   "id": "073274db",
   "metadata": {},
   "outputs": [
    {
     "data": {
      "text/plain": [
       "36"
      ]
     },
     "execution_count": 27,
     "metadata": {},
     "output_type": "execute_result"
    }
   ],
   "source": [
    "add(2)"
   ]
  },
  {
   "cell_type": "code",
   "execution_count": 28,
   "id": "ca55678c",
   "metadata": {},
   "outputs": [
    {
     "data": {
      "text/html": [
       "<div>\n",
       "<style scoped>\n",
       "    .dataframe tbody tr th:only-of-type {\n",
       "        vertical-align: middle;\n",
       "    }\n",
       "\n",
       "    .dataframe tbody tr th {\n",
       "        vertical-align: top;\n",
       "    }\n",
       "\n",
       "    .dataframe thead th {\n",
       "        text-align: right;\n",
       "    }\n",
       "</style>\n",
       "<table border=\"1\" class=\"dataframe\">\n",
       "  <thead>\n",
       "    <tr style=\"text-align: right;\">\n",
       "      <th></th>\n",
       "      <th>Name</th>\n",
       "      <th>Age</th>\n",
       "    </tr>\n",
       "  </thead>\n",
       "  <tbody>\n",
       "    <tr>\n",
       "      <th>0</th>\n",
       "      <td>Prajakta</td>\n",
       "      <td>23</td>\n",
       "    </tr>\n",
       "    <tr>\n",
       "      <th>1</th>\n",
       "      <td>sarthak</td>\n",
       "      <td>24</td>\n",
       "    </tr>\n",
       "    <tr>\n",
       "      <th>2</th>\n",
       "      <td>Adarsh</td>\n",
       "      <td>10</td>\n",
       "    </tr>\n",
       "  </tbody>\n",
       "</table>\n",
       "</div>"
      ],
      "text/plain": [
       "       Name  Age\n",
       "0  Prajakta   23\n",
       "1   sarthak   24\n",
       "2    Adarsh   10"
      ]
     },
     "execution_count": 28,
     "metadata": {},
     "output_type": "execute_result"
    }
   ],
   "source": [
    "df.sort_index()"
   ]
  },
  {
   "cell_type": "code",
   "execution_count": 29,
   "id": "18d47ac6",
   "metadata": {},
   "outputs": [
    {
     "data": {
      "text/plain": [
       "Name\n",
       "Prajakta    1\n",
       "sarthak     1\n",
       "Adarsh      1\n",
       "Name: count, dtype: int64"
      ]
     },
     "execution_count": 29,
     "metadata": {},
     "output_type": "execute_result"
    }
   ],
   "source": [
    "df['Name'].value_counts()"
   ]
  },
  {
   "cell_type": "code",
   "execution_count": 30,
   "id": "14c92cd8",
   "metadata": {},
   "outputs": [
    {
     "data": {
      "text/plain": [
       "6"
      ]
     },
     "execution_count": 30,
     "metadata": {},
     "output_type": "execute_result"
    }
   ],
   "source": [
    "len(t)"
   ]
  },
  {
   "cell_type": "markdown",
   "id": "40ee71d4",
   "metadata": {},
   "source": [
    "### Create class Person"
   ]
  },
  {
   "cell_type": "code",
   "execution_count": 31,
   "id": "ee57efe6",
   "metadata": {},
   "outputs": [],
   "source": [
    "class Person:\n",
    "    def __init__(self  , Name  , Age  , Gender  , Occupation):\n",
    "        self.name =   Name\n",
    "        self.age  =  Age\n",
    "        self.gender  =  Gender\n",
    "        self.occupation  =  Occupation"
   ]
  },
  {
   "cell_type": "code",
   "execution_count": 32,
   "id": "fa7790a9",
   "metadata": {},
   "outputs": [],
   "source": [
    "# name  =  ' Sunita' ,  age  - 25 ,  gender  = female  ,  occupation =  'DA'\n",
    "o1  =  Person(Name  =  ' Sunita' ,  Age  = 25 ,  Gender  = 'female'  ,  Occupation =  'DA')\n"
   ]
  },
  {
   "cell_type": "code",
   "execution_count": 33,
   "id": "8db4b466",
   "metadata": {},
   "outputs": [
    {
     "data": {
      "text/plain": [
       "<__main__.Person at 0x223fda29400>"
      ]
     },
     "execution_count": 33,
     "metadata": {},
     "output_type": "execute_result"
    }
   ],
   "source": [
    "o1"
   ]
  },
  {
   "cell_type": "code",
   "execution_count": 34,
   "id": "655968e7",
   "metadata": {},
   "outputs": [
    {
     "data": {
      "text/plain": [
       "' Sunita'"
      ]
     },
     "execution_count": 34,
     "metadata": {},
     "output_type": "execute_result"
    }
   ],
   "source": [
    "o1.name"
   ]
  },
  {
   "cell_type": "code",
   "execution_count": 35,
   "id": "cb9dc9d5",
   "metadata": {},
   "outputs": [
    {
     "data": {
      "text/plain": [
       "25"
      ]
     },
     "execution_count": 35,
     "metadata": {},
     "output_type": "execute_result"
    }
   ],
   "source": [
    "o1.age"
   ]
  },
  {
   "cell_type": "code",
   "execution_count": 36,
   "id": "4d8dbf0c",
   "metadata": {},
   "outputs": [
    {
     "data": {
      "text/plain": [
       "'female'"
      ]
     },
     "execution_count": 36,
     "metadata": {},
     "output_type": "execute_result"
    }
   ],
   "source": [
    "o1.gender"
   ]
  },
  {
   "cell_type": "code",
   "execution_count": 37,
   "id": "ad2e4173",
   "metadata": {},
   "outputs": [
    {
     "data": {
      "text/plain": [
       "'DA'"
      ]
     },
     "execution_count": 37,
     "metadata": {},
     "output_type": "execute_result"
    }
   ],
   "source": [
    "o1.occupation"
   ]
  },
  {
   "cell_type": "code",
   "execution_count": 38,
   "id": "13aeeed5",
   "metadata": {},
   "outputs": [],
   "source": [
    "o2  =  Person(Name = 'Suresh' ,   Age  =  26  , Gender  ='Male' ,  Occupation= \"DS\")"
   ]
  },
  {
   "cell_type": "code",
   "execution_count": 39,
   "id": "647455bc",
   "metadata": {},
   "outputs": [
    {
     "data": {
      "text/plain": [
       "<__main__.Person at 0x223fd96f250>"
      ]
     },
     "execution_count": 39,
     "metadata": {},
     "output_type": "execute_result"
    }
   ],
   "source": [
    "o2"
   ]
  },
  {
   "cell_type": "code",
   "execution_count": 40,
   "id": "92a3d799",
   "metadata": {},
   "outputs": [
    {
     "data": {
      "text/plain": [
       "'Suresh'"
      ]
     },
     "execution_count": 40,
     "metadata": {},
     "output_type": "execute_result"
    }
   ],
   "source": [
    "o2.name"
   ]
  },
  {
   "cell_type": "code",
   "execution_count": 41,
   "id": "06584afa",
   "metadata": {},
   "outputs": [
    {
     "data": {
      "text/plain": [
       "'Suresh'"
      ]
     },
     "execution_count": 41,
     "metadata": {},
     "output_type": "execute_result"
    }
   ],
   "source": [
    "o2.name"
   ]
  },
  {
   "cell_type": "code",
   "execution_count": 42,
   "id": "a185c8f6",
   "metadata": {},
   "outputs": [
    {
     "data": {
      "text/plain": [
       "26"
      ]
     },
     "execution_count": 42,
     "metadata": {},
     "output_type": "execute_result"
    }
   ],
   "source": [
    "o2.age"
   ]
  },
  {
   "cell_type": "code",
   "execution_count": 43,
   "id": "0b937681",
   "metadata": {},
   "outputs": [
    {
     "data": {
      "text/plain": [
       "'Male'"
      ]
     },
     "execution_count": 43,
     "metadata": {},
     "output_type": "execute_result"
    }
   ],
   "source": [
    "o2.gender"
   ]
  },
  {
   "cell_type": "code",
   "execution_count": 44,
   "id": "7ac7b0f7",
   "metadata": {},
   "outputs": [
    {
     "data": {
      "text/plain": [
       "'DS'"
      ]
     },
     "execution_count": 44,
     "metadata": {},
     "output_type": "execute_result"
    }
   ],
   "source": [
    "o2.occupation"
   ]
  },
  {
   "cell_type": "markdown",
   "id": "254c2b01",
   "metadata": {},
   "source": [
    "## Add education attribute o2"
   ]
  },
  {
   "cell_type": "code",
   "execution_count": 45,
   "id": "18641b64",
   "metadata": {},
   "outputs": [],
   "source": [
    "o2.Education = \"MBA\""
   ]
  },
  {
   "cell_type": "code",
   "execution_count": 46,
   "id": "4ad28fdd",
   "metadata": {},
   "outputs": [
    {
     "data": {
      "text/plain": [
       "'MBA'"
      ]
     },
     "execution_count": 46,
     "metadata": {},
     "output_type": "execute_result"
    }
   ],
   "source": [
    "o2.Education"
   ]
  },
  {
   "cell_type": "code",
   "execution_count": 47,
   "id": "7056b502",
   "metadata": {},
   "outputs": [
    {
     "data": {
      "text/plain": [
       "'Suresh'"
      ]
     },
     "execution_count": 47,
     "metadata": {},
     "output_type": "execute_result"
    }
   ],
   "source": [
    "o2.name"
   ]
  },
  {
   "cell_type": "code",
   "execution_count": 48,
   "id": "5985b620",
   "metadata": {},
   "outputs": [],
   "source": [
    "o2.name  = 'Nitikesh'"
   ]
  },
  {
   "cell_type": "code",
   "execution_count": 49,
   "id": "6eb6e095",
   "metadata": {},
   "outputs": [
    {
     "data": {
      "text/plain": [
       "'Nitikesh'"
      ]
     },
     "execution_count": 49,
     "metadata": {},
     "output_type": "execute_result"
    }
   ],
   "source": [
    "o2.name"
   ]
  },
  {
   "cell_type": "markdown",
   "id": "7ffdfb5e",
   "metadata": {},
   "source": [
    "## delete attributes"
   ]
  },
  {
   "cell_type": "code",
   "execution_count": 50,
   "id": "9405bb9e",
   "metadata": {},
   "outputs": [],
   "source": [
    "o2.__delattr__('Education')"
   ]
  },
  {
   "cell_type": "markdown",
   "id": "ebd35730",
   "metadata": {},
   "source": [
    "## Education is deleted"
   ]
  },
  {
   "cell_type": "code",
   "execution_count": 51,
   "id": "5099db52",
   "metadata": {},
   "outputs": [
    {
     "ename": "AttributeError",
     "evalue": "'Person' object has no attribute 'Education'",
     "output_type": "error",
     "traceback": [
      "\u001b[31m---------------------------------------------------------------------------\u001b[39m",
      "\u001b[31mAttributeError\u001b[39m                            Traceback (most recent call last)",
      "\u001b[36mCell\u001b[39m\u001b[36m \u001b[39m\u001b[32mIn[51]\u001b[39m\u001b[32m, line 1\u001b[39m\n\u001b[32m----> \u001b[39m\u001b[32m1\u001b[39m \u001b[43mo2\u001b[49m\u001b[43m.\u001b[49m\u001b[43mEducation\u001b[49m\n",
      "\u001b[31mAttributeError\u001b[39m: 'Person' object has no attribute 'Education'"
     ]
    }
   ],
   "source": [
    "o2.Education"
   ]
  },
  {
   "cell_type": "code",
   "execution_count": null,
   "id": "70c1344f",
   "metadata": {},
   "outputs": [],
   "source": [
    "class Person:\n",
    "    def __init__(self  , Name  , Age  , Gender  , Occupation):\n",
    "        self.name =   Name\n",
    "        self.age  =  Age\n",
    "        self.gender  =  Gender\n",
    "        self.occupation  =  Occupation\n",
    "\n",
    "        # add method talk\n",
    "    def talk(self):\n",
    "        print(f'Hi there My name  is {self.name}')\n",
    "        print(f'I am  {self.age}  years  old')\n",
    "        print(f' i am  {self.gender}')\n",
    "        print(f'i Work as {self.occupation}')"
   ]
  },
  {
   "cell_type": "code",
   "execution_count": null,
   "id": "955f3f85",
   "metadata": {},
   "outputs": [],
   "source": [
    "o3  =  Person(Name  =   'Umesh' , Age  = 29 , Gender = 'Male' , Occupation  = 'Bussiness')"
   ]
  },
  {
   "cell_type": "code",
   "execution_count": null,
   "id": "0c6d62bb",
   "metadata": {},
   "outputs": [
    {
     "data": {
      "text/plain": [
       "<__main__.Person at 0x2e2f01516a0>"
      ]
     },
     "execution_count": 53,
     "metadata": {},
     "output_type": "execute_result"
    }
   ],
   "source": [
    "o3"
   ]
  },
  {
   "cell_type": "code",
   "execution_count": null,
   "id": "20410505",
   "metadata": {},
   "outputs": [
    {
     "name": "stdout",
     "output_type": "stream",
     "text": [
      "Umesh\n",
      "29\n",
      "Bussiness\n",
      "Male\n"
     ]
    }
   ],
   "source": [
    "print(o3.name)\n",
    "print(o3.age)\n",
    "print(o3.occupation)\n",
    "print(o3.gender)"
   ]
  },
  {
   "cell_type": "code",
   "execution_count": null,
   "id": "84acff2f",
   "metadata": {},
   "outputs": [
    {
     "name": "stdout",
     "output_type": "stream",
     "text": [
      "Hi there My name  is Umesh\n",
      "I am  29  years  old\n",
      " i am  Male\n",
      "i Work as Bussiness\n"
     ]
    }
   ],
   "source": [
    "o3.talk()"
   ]
  },
  {
   "cell_type": "code",
   "execution_count": null,
   "id": "5d06f0dc",
   "metadata": {},
   "outputs": [
    {
     "ename": "TypeError",
     "evalue": "Person.__init__() missing 1 required positional argument: 'Gender'",
     "output_type": "error",
     "traceback": [
      "\u001b[31m---------------------------------------------------------------------------\u001b[39m",
      "\u001b[31mTypeError\u001b[39m                                 Traceback (most recent call last)",
      "\u001b[36mCell\u001b[39m\u001b[36m \u001b[39m\u001b[32mIn[56]\u001b[39m\u001b[32m, line 1\u001b[39m\n\u001b[32m----> \u001b[39m\u001b[32m1\u001b[39m o4  =  \u001b[43mPerson\u001b[49m\u001b[43m(\u001b[49m\u001b[43mName\u001b[49m\u001b[43m  \u001b[49m\u001b[43m=\u001b[49m\u001b[43m   \u001b[49m\u001b[33;43m'\u001b[39;49m\u001b[33;43mUmesh\u001b[39;49m\u001b[33;43m'\u001b[39;49m\u001b[43m \u001b[49m\u001b[43m,\u001b[49m\u001b[43m \u001b[49m\u001b[43mAge\u001b[49m\u001b[43m  \u001b[49m\u001b[43m=\u001b[49m\u001b[43m \u001b[49m\u001b[32;43m29\u001b[39;49m\u001b[43m  \u001b[49m\u001b[43m,\u001b[49m\u001b[43m \u001b[49m\u001b[43mOccupation\u001b[49m\u001b[43m  \u001b[49m\u001b[43m=\u001b[49m\u001b[43m \u001b[49m\u001b[33;43m'\u001b[39;49m\u001b[33;43mBussiness\u001b[39;49m\u001b[33;43m'\u001b[39;49m\u001b[43m)\u001b[49m\n",
      "\u001b[31mTypeError\u001b[39m: Person.__init__() missing 1 required positional argument: 'Gender'"
     ]
    }
   ],
   "source": [
    "o4  =  Person(Name  =   'Umesh' , Age  = 29  , Occupation  = 'Bussiness')"
   ]
  },
  {
   "cell_type": "markdown",
   "id": "785112d9",
   "metadata": {},
   "source": [
    "## Class Attributes\n",
    "- Create class employee"
   ]
  },
  {
   "cell_type": "code",
   "execution_count": 53,
   "id": "07329f08",
   "metadata": {},
   "outputs": [],
   "source": [
    "class Employee:\n",
    "    Company  = \"TCS\"\n",
    "    def __init__(self , name , id):\n",
    "        self.name   = name\n",
    "        self.id  =  id"
   ]
  },
  {
   "cell_type": "code",
   "execution_count": 54,
   "id": "c51d844a",
   "metadata": {},
   "outputs": [],
   "source": [
    "e1  =  Employee(name  = 'Raman' , id  = 'emp0001')"
   ]
  },
  {
   "cell_type": "code",
   "execution_count": 55,
   "id": "5a6887e3",
   "metadata": {},
   "outputs": [
    {
     "data": {
      "text/plain": [
       "<__main__.Employee at 0x223fda292b0>"
      ]
     },
     "execution_count": 55,
     "metadata": {},
     "output_type": "execute_result"
    }
   ],
   "source": [
    "e1"
   ]
  },
  {
   "cell_type": "code",
   "execution_count": 56,
   "id": "958506c3",
   "metadata": {},
   "outputs": [],
   "source": [
    "e2 =  Employee(name  = 'john' , id  ='Emp0002')"
   ]
  },
  {
   "cell_type": "code",
   "execution_count": 58,
   "id": "f4cec74c",
   "metadata": {},
   "outputs": [
    {
     "data": {
      "text/plain": [
       "'john'"
      ]
     },
     "execution_count": 58,
     "metadata": {},
     "output_type": "execute_result"
    }
   ],
   "source": [
    "e1.name\n",
    "e2.name "
   ]
  },
  {
   "cell_type": "code",
   "execution_count": 59,
   "id": "a7528617",
   "metadata": {},
   "outputs": [
    {
     "data": {
      "text/plain": [
       "'TCS'"
      ]
     },
     "execution_count": 59,
     "metadata": {},
     "output_type": "execute_result"
    }
   ],
   "source": [
    "e1.Company"
   ]
  },
  {
   "cell_type": "code",
   "execution_count": 60,
   "id": "bc3a5e4c",
   "metadata": {},
   "outputs": [
    {
     "data": {
      "text/plain": [
       "'TCS'"
      ]
     },
     "execution_count": 60,
     "metadata": {},
     "output_type": "execute_result"
    }
   ],
   "source": [
    "e2.Company"
   ]
  },
  {
   "cell_type": "code",
   "execution_count": 61,
   "id": "2fac87c1",
   "metadata": {},
   "outputs": [],
   "source": [
    "e1.Company = \"Infosys\""
   ]
  },
  {
   "cell_type": "code",
   "execution_count": 62,
   "id": "bfb78a20",
   "metadata": {},
   "outputs": [
    {
     "data": {
      "text/plain": [
       "'Infosys'"
      ]
     },
     "execution_count": 62,
     "metadata": {},
     "output_type": "execute_result"
    }
   ],
   "source": [
    "e1.Company"
   ]
  },
  {
   "cell_type": "markdown",
   "id": "539cbea2",
   "metadata": {},
   "source": [
    "## dataclass method"
   ]
  },
  {
   "cell_type": "code",
   "execution_count": 65,
   "id": "7165ea04",
   "metadata": {},
   "outputs": [],
   "source": [
    "from dataclasses import dataclass\n",
    "from  typing import Union , List , Literal "
   ]
  },
  {
   "cell_type": "markdown",
   "id": "0f815ee6",
   "metadata": {},
   "source": [
    "## create class studdent\n",
    "- Name\n",
    "- Marks\n",
    "- Age \n",
    "- gender\n",
    "- Hobby"
   ]
  },
  {
   "cell_type": "code",
   "execution_count": 66,
   "id": "92cfe659",
   "metadata": {},
   "outputs": [],
   "source": [
    "@dataclass\n",
    "class Student: \n",
    "    Name : str\n",
    "    Marks : int|float\n",
    "    Age  : int\n",
    "    Gender : Literal[\"Male\" , \"Female\"]\n",
    "    Hobbies : List[str]"
   ]
  },
  {
   "cell_type": "code",
   "execution_count": 67,
   "id": "bf70a290",
   "metadata": {},
   "outputs": [],
   "source": [
    "s1  =  Student(Name  = 'Amar' ,  Marks  = 78 ,  Age =  27   , Gender = 'Male' , Hobbies = 'Reading'  )\n"
   ]
  },
  {
   "cell_type": "code",
   "execution_count": 68,
   "id": "05044a08",
   "metadata": {},
   "outputs": [
    {
     "data": {
      "text/plain": [
       "Student(Name='Amar', Marks=78, Age=27, Gender='Male', Hobbies='Reading')"
      ]
     },
     "execution_count": 68,
     "metadata": {},
     "output_type": "execute_result"
    }
   ],
   "source": [
    "s1"
   ]
  },
  {
   "cell_type": "code",
   "execution_count": 69,
   "id": "0fcc0565",
   "metadata": {},
   "outputs": [
    {
     "data": {
      "text/plain": [
       "'Amar'"
      ]
     },
     "execution_count": 69,
     "metadata": {},
     "output_type": "execute_result"
    }
   ],
   "source": [
    "s1.Name"
   ]
  },
  {
   "cell_type": "code",
   "execution_count": 70,
   "id": "ab4edc14",
   "metadata": {},
   "outputs": [
    {
     "ename": "AttributeError",
     "evalue": "'Student' object has no attribute 'info'",
     "output_type": "error",
     "traceback": [
      "\u001b[31m---------------------------------------------------------------------------\u001b[39m",
      "\u001b[31mAttributeError\u001b[39m                            Traceback (most recent call last)",
      "\u001b[36mCell\u001b[39m\u001b[36m \u001b[39m\u001b[32mIn[70]\u001b[39m\u001b[32m, line 1\u001b[39m\n\u001b[32m----> \u001b[39m\u001b[32m1\u001b[39m \u001b[43ms1\u001b[49m\u001b[43m.\u001b[49m\u001b[43minfo\u001b[49m()\n",
      "\u001b[31mAttributeError\u001b[39m: 'Student' object has no attribute 'info'"
     ]
    }
   ],
   "source": [
    "s1.info()\n"
   ]
  },
  {
   "cell_type": "code",
   "execution_count": 71,
   "id": "f6fef8b6",
   "metadata": {},
   "outputs": [],
   "source": [
    "s2 =  Student(Name  = 'Amar' ,  Marks  = 78 ,  Age =  27   , Gender = 'Male' , Hobbies = ['Reading' , 'Swimming' ])\n"
   ]
  },
  {
   "cell_type": "code",
   "execution_count": 72,
   "id": "0bdd117b",
   "metadata": {},
   "outputs": [
    {
     "data": {
      "text/plain": [
       "['Reading', 'Swimming']"
      ]
     },
     "execution_count": 72,
     "metadata": {},
     "output_type": "execute_result"
    }
   ],
   "source": [
    "s2.Hobbies"
   ]
  },
  {
   "cell_type": "code",
   "execution_count": 73,
   "id": "a331f781",
   "metadata": {},
   "outputs": [],
   "source": [
    "s3 = Student(Name = 123 , Marks = 76 , Age = 8 , Gender = 'Male' , Hobbies = ('playing'))"
   ]
  },
  {
   "cell_type": "code",
   "execution_count": 75,
   "id": "7cbcd11e",
   "metadata": {},
   "outputs": [
    {
     "data": {
      "text/plain": [
       "123"
      ]
     },
     "execution_count": 75,
     "metadata": {},
     "output_type": "execute_result"
    }
   ],
   "source": [
    "s3.Name"
   ]
  },
  {
   "cell_type": "code",
   "execution_count": 76,
   "id": "b5b7387d",
   "metadata": {},
   "outputs": [
    {
     "data": {
      "text/plain": [
       "'playing'"
      ]
     },
     "execution_count": 76,
     "metadata": {},
     "output_type": "execute_result"
    }
   ],
   "source": [
    "s3.Hobbies"
   ]
  },
  {
   "cell_type": "code",
   "execution_count": null,
   "id": "12cec76e",
   "metadata": {},
   "outputs": [],
   "source": []
  }
 ],
 "metadata": {
  "kernelspec": {
   "display_name": "venv",
   "language": "python",
   "name": "python3"
  },
  "language_info": {
   "codemirror_mode": {
    "name": "ipython",
    "version": 3
   },
   "file_extension": ".py",
   "mimetype": "text/x-python",
   "name": "python",
   "nbconvert_exporter": "python",
   "pygments_lexer": "ipython3",
   "version": "3.13.7"
  }
 },
 "nbformat": 4,
 "nbformat_minor": 5
}
