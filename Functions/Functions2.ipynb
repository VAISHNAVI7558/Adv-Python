{
 "cells": [
  {
   "cell_type": "markdown",
   "id": "b879db6d",
   "metadata": {},
   "source": [
    "### **kwargrs"
   ]
  },
  {
   "cell_type": "code",
   "execution_count": 8,
   "id": "6a46bca7",
   "metadata": {},
   "outputs": [],
   "source": [
    "def key_var_len_args(**kwargs):\n",
    "    print(type(kwargs))\n",
    "    print(kwargs)"
   ]
  },
  {
   "cell_type": "code",
   "execution_count": 9,
   "id": "e4a7a94c",
   "metadata": {},
   "outputs": [
    {
     "name": "stdout",
     "output_type": "stream",
     "text": [
      "<class 'dict'>\n",
      "{'name': 'Payal', 'age': 20, 'education': 'BCA'}\n"
     ]
    }
   ],
   "source": [
    "key_var_len_args(name = 'Payal' , age = 20 , education = 'BCA')"
   ]
  },
  {
   "cell_type": "code",
   "execution_count": 10,
   "id": "a23314a6",
   "metadata": {},
   "outputs": [],
   "source": [
    "info = {'Empid': [1,2,3] , 'Emp_name':['payal' , 'Akshay' , 'Sahil']}"
   ]
  },
  {
   "cell_type": "markdown",
   "id": "1bbf8361",
   "metadata": {},
   "source": [
    "## Dictionary Unpacking"
   ]
  },
  {
   "cell_type": "code",
   "execution_count": 11,
   "id": "04dced6f",
   "metadata": {},
   "outputs": [
    {
     "ename": "TypeError",
     "evalue": "key_var_len_args() takes 0 positional arguments but 1 was given",
     "output_type": "error",
     "traceback": [
      "\u001b[31m---------------------------------------------------------------------------\u001b[39m",
      "\u001b[31mTypeError\u001b[39m                                 Traceback (most recent call last)",
      "\u001b[36mCell\u001b[39m\u001b[36m \u001b[39m\u001b[32mIn[11]\u001b[39m\u001b[32m, line 1\u001b[39m\n\u001b[32m----> \u001b[39m\u001b[32m1\u001b[39m \u001b[43mkey_var_len_args\u001b[49m\u001b[43m(\u001b[49m\u001b[43minfo\u001b[49m\u001b[43m)\u001b[49m\n",
      "\u001b[31mTypeError\u001b[39m: key_var_len_args() takes 0 positional arguments but 1 was given"
     ]
    }
   ],
   "source": [
    "key_var_len_args(info)"
   ]
  },
  {
   "cell_type": "code",
   "execution_count": null,
   "id": "582e2ca9",
   "metadata": {},
   "outputs": [
    {
     "name": "stdout",
     "output_type": "stream",
     "text": [
      "<class 'dict'>\n",
      "{'Empid': [1, 2, 3], 'Emp_name': ['payal', 'Akshay', 'Sahil']}\n"
     ]
    }
   ],
   "source": [
    "key_var_len_args(**info)"
   ]
  },
  {
   "cell_type": "code",
   "execution_count": null,
   "id": "c5aab7c0",
   "metadata": {},
   "outputs": [
    {
     "data": {
      "text/plain": [
       "dict_items([('Empid', [1, 2, 3]), ('Emp_name', ['payal', 'Akshay', 'Sahil'])])"
      ]
     },
     "execution_count": 14,
     "metadata": {},
     "output_type": "execute_result"
    }
   ],
   "source": [
    "info.items()"
   ]
  },
  {
   "cell_type": "code",
   "execution_count": null,
   "id": "eab9a382",
   "metadata": {},
   "outputs": [],
   "source": [
    "## output will  be  none  \n",
    "# because retrun and update used same time\n",
    "def  form_fill(**kwargs):\n",
    "    info =  {'Name' : None ,\n",
    "             'Mail' : None , \n",
    "             'Age' : None ,  \n",
    "             \"Adress\" : None}\n",
    "    return  info.update(kwargs)"
   ]
  },
  {
   "cell_type": "code",
   "execution_count": null,
   "id": "24e1f09d",
   "metadata": {},
   "outputs": [
    {
     "name": "stdout",
     "output_type": "stream",
     "text": [
      "None\n"
     ]
    }
   ],
   "source": [
    "print(form_fill(**info))"
   ]
  },
  {
   "cell_type": "code",
   "execution_count": 14,
   "id": "36b3d8cb",
   "metadata": {},
   "outputs": [],
   "source": [
    "def  form_fill(**kwargs):\n",
    "    info =  {'Name' : None ,\n",
    "             'Mail' : None , \n",
    "             'Age' : None ,  \n",
    "             \"Adress\" : None}\n",
    "    info.update(kwargs)\n",
    "    return info"
   ]
  },
  {
   "cell_type": "code",
   "execution_count": 16,
   "id": "b58b4040",
   "metadata": {},
   "outputs": [
    {
     "data": {
      "text/plain": [
       "{'Name': None,\n",
       " 'Mail': 'payalrayphale@gmail.com',\n",
       " 'Age': None,\n",
       " 'Adress': None,\n",
       " 'name': 'Vaishnavi',\n",
       " 'age': 20}"
      ]
     },
     "execution_count": 16,
     "metadata": {},
     "output_type": "execute_result"
    }
   ],
   "source": [
    "form_fill(name = 'Vaishnavi' , Mail = 'payalrayphale@gmail.com' , age  =  20 )"
   ]
  },
  {
   "cell_type": "code",
   "execution_count": 17,
   "id": "0742bc57",
   "metadata": {},
   "outputs": [
    {
     "data": {
      "text/plain": [
       "{'Name': None,\n",
       " 'Mail': 'payalrayphale@gmail.com',\n",
       " 'Age': None,\n",
       " 'Adress': None,\n",
       " 'name': 'Vaishnavi',\n",
       " 'age': 20,\n",
       " 'Gender': 'Female'}"
      ]
     },
     "execution_count": 17,
     "metadata": {},
     "output_type": "execute_result"
    }
   ],
   "source": [
    "form_fill(name = 'Vaishnavi' , Mail = 'payalrayphale@gmail.com' , age  =  20 , Gender = 'Female' )"
   ]
  },
  {
   "cell_type": "code",
   "execution_count": 18,
   "id": "c2261dfd",
   "metadata": {},
   "outputs": [],
   "source": [
    "info  =  {'Empid' : [1 ,2,3] ,  'Emp_name' : ['Suresh' ,  'Sarthak' ,  'Smita']}\n"
   ]
  },
  {
   "cell_type": "code",
   "execution_count": 22,
   "id": "f753f433",
   "metadata": {},
   "outputs": [],
   "source": [
    "info1 = {\"Edu\" : 'ME' , 'Gender' : 'Female'} \n",
    "info.update({\"Edu\" : 'ME' , 'Gender' : 'Female'} )"
   ]
  },
  {
   "cell_type": "code",
   "execution_count": 23,
   "id": "8510e793",
   "metadata": {},
   "outputs": [
    {
     "data": {
      "text/plain": [
       "{'Empid': [1, 2, 3],\n",
       " 'Emp_name': ['Suresh', 'Sarthak', 'Smita'],\n",
       " 'Edu': 'ME',\n",
       " 'Gender': 'Female'}"
      ]
     },
     "execution_count": 23,
     "metadata": {},
     "output_type": "execute_result"
    }
   ],
   "source": [
    "info"
   ]
  },
  {
   "cell_type": "code",
   "execution_count": 24,
   "id": "76aed7a7",
   "metadata": {},
   "outputs": [],
   "source": [
    "## output will  be  none  \n",
    "# because retrun and update used same time\n",
    "def  form_fill(**kwargs):\n",
    "    info =  {'Name' : None ,\n",
    "             'Mail' : None , \n",
    "             'Age' : None ,  \n",
    "             \"Adress\" : None}\n",
    "    return  info.update(kwargs)"
   ]
  },
  {
   "cell_type": "code",
   "execution_count": 25,
   "id": "ba5fe694",
   "metadata": {},
   "outputs": [],
   "source": [
    "a = info.update({\"Edu\" : 'ME' , 'Gender' : 'Female'} )"
   ]
  },
  {
   "cell_type": "code",
   "execution_count": 26,
   "id": "19ba4d91",
   "metadata": {},
   "outputs": [
    {
     "name": "stdout",
     "output_type": "stream",
     "text": [
      "None\n"
     ]
    }
   ],
   "source": [
    "\n",
    "print(a)"
   ]
  },
  {
   "cell_type": "code",
   "execution_count": 27,
   "id": "cc465f5f",
   "metadata": {},
   "outputs": [],
   "source": [
    "form_fill(**info)"
   ]
  },
  {
   "cell_type": "code",
   "execution_count": 28,
   "id": "6d957dbb",
   "metadata": {},
   "outputs": [],
   "source": [
    "form_fill(name = 'Prajkta' ,  age  =  25)"
   ]
  },
  {
   "cell_type": "code",
   "execution_count": 29,
   "id": "87de8709",
   "metadata": {},
   "outputs": [
    {
     "data": {
      "text/plain": [
       "{'Empid': [1, 2, 3],\n",
       " 'Emp_name': ['Suresh', 'Sarthak', 'Smita'],\n",
       " 'Edu': 'ME',\n",
       " 'Gender': 'Female'}"
      ]
     },
     "execution_count": 29,
     "metadata": {},
     "output_type": "execute_result"
    }
   ],
   "source": [
    "info"
   ]
  },
  {
   "cell_type": "code",
   "execution_count": 30,
   "id": "37880550",
   "metadata": {},
   "outputs": [
    {
     "data": {
      "text/plain": [
       "[1, 2, 3]"
      ]
     },
     "execution_count": 30,
     "metadata": {},
     "output_type": "execute_result"
    }
   ],
   "source": [
    "info['Empid']"
   ]
  },
  {
   "cell_type": "code",
   "execution_count": 31,
   "id": "ce603920",
   "metadata": {},
   "outputs": [
    {
     "data": {
      "text/plain": [
       "[1, 2, 3]"
      ]
     },
     "execution_count": 31,
     "metadata": {},
     "output_type": "execute_result"
    }
   ],
   "source": [
    "info.get('Empid')"
   ]
  },
  {
   "cell_type": "code",
   "execution_count": 32,
   "id": "c7e52a97",
   "metadata": {},
   "outputs": [
    {
     "ename": "KeyError",
     "evalue": "'empid'",
     "output_type": "error",
     "traceback": [
      "\u001b[31m---------------------------------------------------------------------------\u001b[39m",
      "\u001b[31mKeyError\u001b[39m                                  Traceback (most recent call last)",
      "\u001b[36mCell\u001b[39m\u001b[36m \u001b[39m\u001b[32mIn[32]\u001b[39m\u001b[32m, line 1\u001b[39m\n\u001b[32m----> \u001b[39m\u001b[32m1\u001b[39m \u001b[43minfo\u001b[49m\u001b[43m[\u001b[49m\u001b[33;43m'\u001b[39;49m\u001b[33;43mempid\u001b[39;49m\u001b[33;43m'\u001b[39;49m\u001b[43m]\u001b[49m\n",
      "\u001b[31mKeyError\u001b[39m: 'empid'"
     ]
    }
   ],
   "source": [
    "info['empid']"
   ]
  },
  {
   "cell_type": "code",
   "execution_count": 34,
   "id": "c6ea8584",
   "metadata": {},
   "outputs": [
    {
     "name": "stdout",
     "output_type": "stream",
     "text": [
      "None\n"
     ]
    }
   ],
   "source": [
    "\n",
    "print(info.get('empid'))"
   ]
  },
  {
   "cell_type": "markdown",
   "id": "c53bcfa9",
   "metadata": {},
   "source": [
    "## Final function"
   ]
  },
  {
   "cell_type": "code",
   "execution_count": 35,
   "id": "f3456ea6",
   "metadata": {},
   "outputs": [],
   "source": [
    "def  form_fill(**kwargs):\n",
    "    info =  {'Name' : None ,\n",
    "             'Mail' : None , \n",
    "             'Age' : None ,  \n",
    "             \"Adress\" : None}\n",
    "    for  key  , value  in kwargs.items():\n",
    "        if key.title() in info.keys():\n",
    "            info[key.title()] = value\n",
    "    return info"
   ]
  },
  {
   "cell_type": "code",
   "execution_count": 36,
   "id": "13906162",
   "metadata": {},
   "outputs": [
    {
     "data": {
      "text/plain": [
       "{'Name': 'Sunita', 'Mail': None, 'Age': 23, 'Adress': None}"
      ]
     },
     "execution_count": 36,
     "metadata": {},
     "output_type": "execute_result"
    }
   ],
   "source": [
    "form_fill(name  =  'Sunita' ,  aGe =  23)\n"
   ]
  },
  {
   "cell_type": "code",
   "execution_count": 37,
   "id": "75464ced",
   "metadata": {},
   "outputs": [
    {
     "data": {
      "text/plain": [
       "{'Empid': [1, 2, 3],\n",
       " 'Emp_name': ['Suresh', 'Sarthak', 'Smita'],\n",
       " 'Edu': 'ME',\n",
       " 'Gender': 'Female'}"
      ]
     },
     "execution_count": 37,
     "metadata": {},
     "output_type": "execute_result"
    }
   ],
   "source": [
    "info\n"
   ]
  },
  {
   "cell_type": "code",
   "execution_count": 38,
   "id": "c01deb47",
   "metadata": {},
   "outputs": [
    {
     "data": {
      "text/plain": [
       "{'Name': None, 'Mail': None, 'Age': None, 'Adress': None}"
      ]
     },
     "execution_count": 38,
     "metadata": {},
     "output_type": "execute_result"
    }
   ],
   "source": [
    "form_fill(**info)"
   ]
  },
  {
   "cell_type": "code",
   "execution_count": 39,
   "id": "923da27c",
   "metadata": {},
   "outputs": [
    {
     "data": {
      "text/plain": [
       "'Sunita'"
      ]
     },
     "execution_count": 39,
     "metadata": {},
     "output_type": "execute_result"
    }
   ],
   "source": [
    "\n",
    "'sunita'.title()"
   ]
  },
  {
   "cell_type": "code",
   "execution_count": 40,
   "id": "0acc2508",
   "metadata": {},
   "outputs": [
    {
     "data": {
      "text/plain": [
       "'Sunita Pawar'"
      ]
     },
     "execution_count": 40,
     "metadata": {},
     "output_type": "execute_result"
    }
   ],
   "source": [
    "'sunita Pawar'.title()"
   ]
  },
  {
   "cell_type": "code",
   "execution_count": 41,
   "id": "abded72e",
   "metadata": {},
   "outputs": [
    {
     "data": {
      "text/plain": [
       "'Sunita pawar'"
      ]
     },
     "execution_count": 41,
     "metadata": {},
     "output_type": "execute_result"
    }
   ],
   "source": [
    "\n",
    "'sunita Pawar'.capitalize()"
   ]
  },
  {
   "cell_type": "markdown",
   "id": "e826f82e",
   "metadata": {},
   "source": [
    "## Create total bill for Restuarant"
   ]
  },
  {
   "cell_type": "code",
   "execution_count": 44,
   "id": "23827a83",
   "metadata": {},
   "outputs": [],
   "source": [
    "menu  =  {\"Pizza\" : 299 , \"Sandwich\" :  100  ,  \"Burgur\" : 60} "
   ]
  },
  {
   "cell_type": "code",
   "execution_count": null,
   "id": "969ade1f",
   "metadata": {},
   "outputs": [],
   "source": [
    "\n",
    "food product , quantity\n",
    "price per food = price * quantity"
   ]
  },
  {
   "cell_type": "code",
   "execution_count": 47,
   "id": "7a62d590",
   "metadata": {},
   "outputs": [
    {
     "name": "stdout",
     "output_type": "stream",
     "text": [
      "299\n"
     ]
    }
   ],
   "source": [
    "print(menu.get('Pizza'))"
   ]
  },
  {
   "cell_type": "code",
   "execution_count": 48,
   "id": "d51abef4",
   "metadata": {},
   "outputs": [
    {
     "name": "stdout",
     "output_type": "stream",
     "text": [
      "None\n"
     ]
    },
    {
     "data": {
      "text/plain": [
       "598"
      ]
     },
     "execution_count": 48,
     "metadata": {},
     "output_type": "execute_result"
    }
   ],
   "source": [
    "print(menu.get('pizza'))\n",
    "299*2 "
   ]
  },
  {
   "cell_type": "code",
   "execution_count": 49,
   "id": "007a7f76",
   "metadata": {},
   "outputs": [
    {
     "data": {
      "text/plain": [
       "{'Pizza': 299, 'Sandwich': 100, 'Burgur': 60}"
      ]
     },
     "execution_count": 49,
     "metadata": {},
     "output_type": "execute_result"
    }
   ],
   "source": [
    "menu"
   ]
  },
  {
   "cell_type": "code",
   "execution_count": 50,
   "id": "c979da56",
   "metadata": {},
   "outputs": [],
   "source": [
    "def  hotel_bill(**food_quantity):\n",
    "    total_bill  =  0\n",
    "    for  food  ,  quantity in food_quantity.items() :\n",
    "        if  menu.get(food.capitalize()) is  not  None:\n",
    "            price  =  menu.get(food.capitalize())\n",
    "            Subtotal =  price*quantity\n",
    "            print(f\"Subtotal  of {food} is  {Subtotal}\")\n",
    "            total_bill  =  Subtotal  + total_bill\n",
    "    return f' total_bill -->{total_bill}'"
   ]
  },
  {
   "cell_type": "code",
   "execution_count": 51,
   "id": "a326746a",
   "metadata": {},
   "outputs": [
    {
     "name": "stdout",
     "output_type": "stream",
     "text": [
      "Subtotal  of pizza is  598\n"
     ]
    },
    {
     "data": {
      "text/plain": [
       "' total_bill -->598'"
      ]
     },
     "execution_count": 51,
     "metadata": {},
     "output_type": "execute_result"
    }
   ],
   "source": [
    "\n",
    "hotel_bill(pizza = 2)"
   ]
  },
  {
   "cell_type": "code",
   "execution_count": 52,
   "id": "75d84b70",
   "metadata": {},
   "outputs": [
    {
     "name": "stdout",
     "output_type": "stream",
     "text": [
      "Subtotal  of pizza is  598\n",
      "Subtotal  of Sandwich is  300\n"
     ]
    },
    {
     "data": {
      "text/plain": [
       "' total_bill -->898'"
      ]
     },
     "execution_count": 52,
     "metadata": {},
     "output_type": "execute_result"
    }
   ],
   "source": [
    "\n",
    "hotel_bill(pizza = 2 ,  Sandwich  =  3)"
   ]
  },
  {
   "cell_type": "code",
   "execution_count": 53,
   "id": "a987115c",
   "metadata": {},
   "outputs": [
    {
     "name": "stdout",
     "output_type": "stream",
     "text": [
      "Subtotal  of pizza is  598\n",
      "Subtotal  of Sandwich is  300\n"
     ]
    },
    {
     "data": {
      "text/plain": [
       "' total_bill -->898'"
      ]
     },
     "execution_count": 53,
     "metadata": {},
     "output_type": "execute_result"
    }
   ],
   "source": [
    "\n",
    "hotel_bill(pizza = 2 ,  Sandwich  =  3 , Samosa  =  3)"
   ]
  },
  {
   "cell_type": "code",
   "execution_count": 54,
   "id": "85dd2219",
   "metadata": {},
   "outputs": [
    {
     "name": "stdout",
     "output_type": "stream",
     "text": [
      "Subtotal  of Pizza is  598\n",
      "Subtotal  of Sandwich is  300\n"
     ]
    },
    {
     "data": {
      "text/plain": [
       "' total_bill -->898'"
      ]
     },
     "execution_count": 54,
     "metadata": {},
     "output_type": "execute_result"
    }
   ],
   "source": [
    "hotel_bill(Pizza = 2 ,  Sandwich  =  3 , Samosa  =  3 )"
   ]
  },
  {
   "cell_type": "code",
   "execution_count": 55,
   "id": "3c285bde",
   "metadata": {},
   "outputs": [
    {
     "name": "stdout",
     "output_type": "stream",
     "text": [
      "Subtotal  of PiZZA is  598\n",
      "Subtotal  of Sandwich is  300\n"
     ]
    },
    {
     "data": {
      "text/plain": [
       "' total_bill -->898'"
      ]
     },
     "execution_count": 55,
     "metadata": {},
     "output_type": "execute_result"
    }
   ],
   "source": [
    "hotel_bill(PiZZA = 2 ,  Sandwich  =  3 , Samosa  =  3 )"
   ]
  },
  {
   "cell_type": "code",
   "execution_count": 56,
   "id": "668c5cd3",
   "metadata": {},
   "outputs": [
    {
     "data": {
      "text/plain": [
       "dict_items([('500', 3), ('100', 50), ('20', 4)])"
      ]
     },
     "execution_count": 56,
     "metadata": {},
     "output_type": "execute_result"
    }
   ],
   "source": [
    "money  =  {'500' : 3  ,  '100' :  50 ,  '20' : 4}\n",
    "money.items()"
   ]
  },
  {
   "cell_type": "code",
   "execution_count": 57,
   "id": "d0f80739",
   "metadata": {},
   "outputs": [],
   "source": [
    "def Double_money(**Money):\n",
    "    total_Amount  =  0\n",
    "    for  Notes  ,  Quantity in  Money.items():\n",
    "        total_Amount  =  (total_Amount+int(Notes)*Quantity)*2\n",
    "    return  total_Amount\n"
   ]
  },
  {
   "cell_type": "code",
   "execution_count": null,
   "id": "e4cf9fc3",
   "metadata": {},
   "outputs": [
    {
     "ename": "SyntaxError",
     "evalue": "expression cannot contain assignment, perhaps you meant \"==\"? (1799090265.py, line 1)",
     "output_type": "error",
     "traceback": [
      "  \u001b[36mCell\u001b[39m\u001b[36m \u001b[39m\u001b[32mIn[60]\u001b[39m\u001b[32m, line 1\u001b[39m\n\u001b[31m    \u001b[39m\u001b[31mDouble_money('100' = 5  ,  '10' = 5  , '5'  =  6)\u001b[39m\n                 ^\n\u001b[31mSyntaxError\u001b[39m\u001b[31m:\u001b[39m expression cannot contain assignment, perhaps you meant \"==\"?\n"
     ]
    }
   ],
   "source": [
    "Double_money('100' = 5  ,  '10' = 5  , '5'  =  6)"
   ]
  },
  {
   "cell_type": "code",
   "execution_count": 59,
   "id": "6a966176",
   "metadata": {},
   "outputs": [
    {
     "data": {
      "text/plain": [
       "32160"
      ]
     },
     "execution_count": 59,
     "metadata": {},
     "output_type": "execute_result"
    }
   ],
   "source": [
    "Double_money(**money)"
   ]
  },
  {
   "cell_type": "code",
   "execution_count": null,
   "id": "ac3f1740",
   "metadata": {},
   "outputs": [],
   "source": []
  }
 ],
 "metadata": {
  "kernelspec": {
   "display_name": "venv",
   "language": "python",
   "name": "python3"
  },
  "language_info": {
   "codemirror_mode": {
    "name": "ipython",
    "version": 3
   },
   "file_extension": ".py",
   "mimetype": "text/x-python",
   "name": "python",
   "nbconvert_exporter": "python",
   "pygments_lexer": "ipython3",
   "version": "3.13.7"
  }
 },
 "nbformat": 4,
 "nbformat_minor": 5
}
