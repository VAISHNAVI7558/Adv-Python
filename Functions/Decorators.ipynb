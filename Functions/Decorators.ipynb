{
 "cells": [
  {
   "cell_type": "markdown",
   "id": "0a117cbe",
   "metadata": {},
   "source": [
    "![alt text](image.png)"
   ]
  },
  {
   "cell_type": "markdown",
   "id": "75775eb9",
   "metadata": {},
   "source": [
    "## Create decorator for welcoming user"
   ]
  },
  {
   "cell_type": "code",
   "execution_count": 1,
   "id": "754f115d",
   "metadata": {},
   "outputs": [],
   "source": [
    "def  Welcome(func):\n",
    "    def wrapper(*args  , **kwargs):\n",
    "        print('Welcome User')\n",
    "        result  =  func(*args  ,  **kwargs)\n",
    "        print(f'Output of  function --> ,  {result}')\n",
    "        print('Thank  you')\n",
    "        return result\n",
    "    return wrapper"
   ]
  },
  {
   "cell_type": "markdown",
   "id": "688e625d",
   "metadata": {},
   "source": [
    "## Create function to find simple interest & apply decorator"
   ]
  },
  {
   "cell_type": "code",
   "execution_count": 2,
   "id": "a696075f",
   "metadata": {},
   "outputs": [],
   "source": [
    "@Welcome \n",
    "def  Simple_Interest(P:int |float ,  N:int | float  , R:int|float):\n",
    "    \"\"\"\n",
    "    P: Principle  amount\n",
    "    N : numebr of  years\n",
    "    R  :  Rate  of  interest\n",
    "    \"\"\"\n",
    "    I  =  P*N*R/100\n",
    "    A =  P+I\n",
    "    return f\"Interest {I} . Amount to be return {A}\""
   ]
  },
  {
   "cell_type": "code",
   "execution_count": 6,
   "id": "f88cb8e5",
   "metadata": {},
   "outputs": [
    {
     "name": "stdout",
     "output_type": "stream",
     "text": [
      "Welcome User\n",
      "Output of  function --> ,  Interest 2000.0 . Amount to be return 102000.0\n",
      "Thank  you\n"
     ]
    },
    {
     "data": {
      "text/plain": [
       "'Interest 2000.0 . Amount to be return 102000.0'"
      ]
     },
     "execution_count": 6,
     "metadata": {},
     "output_type": "execute_result"
    }
   ],
   "source": [
    "# p =  100000 , R  =  6.5  , N  =  2\n",
    "Simple_Interest(P  =  100000  , N  =  1  ,  R  =  2.0)"
   ]
  },
  {
   "cell_type": "code",
   "execution_count": 7,
   "id": "0ac6162b",
   "metadata": {},
   "outputs": [],
   "source": [
    "# Compound  ineterst\n",
    "@Welcome\n",
    "def Compound_interest(P:int|float  ,  N:int|float  , R:int|float , t  : int):\n",
    "    A  =  P*(1+R/100)**(N)\n",
    "    CI  =  A-P\n",
    "    return  f\"Amount  to return {A} CI --> {CI}\""
   ]
  },
  {
   "cell_type": "code",
   "execution_count": 8,
   "id": "687de21e",
   "metadata": {},
   "outputs": [
    {
     "name": "stdout",
     "output_type": "stream",
     "text": [
      "Welcome User\n",
      "Output of  function --> ,  Amount  to return 121000.00000000001 CI --> 21000.000000000015\n",
      "Thank  you\n"
     ]
    },
    {
     "data": {
      "text/plain": [
       "'Amount  to return 121000.00000000001 CI --> 21000.000000000015'"
      ]
     },
     "execution_count": 8,
     "metadata": {},
     "output_type": "execute_result"
    }
   ],
   "source": [
    "Compound_interest(P= 100000 ,  R  = 10  , N  =  2  , t  =  2)"
   ]
  },
  {
   "cell_type": "markdown",
   "id": "a5779355",
   "metadata": {},
   "source": [
    "## Login Authentication"
   ]
  },
  {
   "cell_type": "code",
   "execution_count": 9,
   "id": "a37344bd",
   "metadata": {},
   "outputs": [],
   "source": [
    "user  =  {\"Payal1\" : 'Payal@123' , \n",
    "            'Vaishu12' : 'Vaishu@123'}"
   ]
  },
  {
   "cell_type": "code",
   "execution_count": 10,
   "id": "7525fa64",
   "metadata": {},
   "outputs": [],
   "source": [
    "def  Authentication(func):\n",
    "    def wrapper(username  ,  password ,  *args  , **kwargs):\n",
    "        if username in user.keys() and  password  ==  user[username]:\n",
    "            print('Login Successful')\n",
    "            print('Welcome  user')\n",
    "            result =  func(username  , password  , *args  , **kwargs)\n",
    "            return  result\n",
    "        else:\n",
    "            print('Invalid  Login credentials')\n",
    "            print('Please  check  username  or  password')\n",
    "    return  wrapper"
   ]
  },
  {
   "cell_type": "code",
   "execution_count": 11,
   "id": "234f0115",
   "metadata": {},
   "outputs": [],
   "source": [
    "@Authentication\n",
    "def  Simple_Interest(username  :  str  , password :  str , P:int |float ,  N:int | float  , R:int|float):\n",
    "    \"\"\"\n",
    "    P: Principle  amount\n",
    "    N : numebr of  years\n",
    "    R  :  Rate  of  interest\n",
    "    \"\"\"\n",
    "    I  =  P*N*R/100\n",
    "    A =  P+I\n",
    "    return f\"Interest {I} . Amount to be return {A}\""
   ]
  },
  {
   "cell_type": "code",
   "execution_count": 12,
   "id": "a39df505",
   "metadata": {},
   "outputs": [
    {
     "name": "stdout",
     "output_type": "stream",
     "text": [
      "Login Successful\n",
      "Welcome  user\n"
     ]
    },
    {
     "data": {
      "text/plain": [
       "'Interest 20000.0 . Amount to be return 120000.0'"
      ]
     },
     "execution_count": 12,
     "metadata": {},
     "output_type": "execute_result"
    }
   ],
   "source": [
    "Simple_Interest(username  = \"Payal1\" , password  ='Payal@123' , P  =  100000 ,  N  =  2 ,  R = 10 )\n"
   ]
  },
  {
   "cell_type": "code",
   "execution_count": 17,
   "id": "66fd75c7",
   "metadata": {},
   "outputs": [
    {
     "name": "stdout",
     "output_type": "stream",
     "text": [
      "Invalid  Login credentials\n",
      "Please  check  username  or  password\n"
     ]
    }
   ],
   "source": [
    "Simple_Interest(username  = \"Vaishu8888\" , password  ='Vaishu@123' , P  =  100000 ,  N  =  2 ,  R = 10 )\n"
   ]
  },
  {
   "cell_type": "code",
   "execution_count": 13,
   "id": "d5b9ceca",
   "metadata": {},
   "outputs": [],
   "source": [
    "## add  two numbers\n",
    "@Welcome\n",
    "def  add(x:int|float  ,  y:int|float):\n",
    "    return x+y"
   ]
  },
  {
   "cell_type": "code",
   "execution_count": 14,
   "id": "4966c378",
   "metadata": {},
   "outputs": [
    {
     "name": "stdout",
     "output_type": "stream",
     "text": [
      "Welcome User\n",
      "Output of  function --> ,  5\n",
      "Thank  you\n"
     ]
    },
    {
     "data": {
      "text/plain": [
       "5"
      ]
     },
     "execution_count": 14,
     "metadata": {},
     "output_type": "execute_result"
    }
   ],
   "source": [
    "add(2 ,3)"
   ]
  },
  {
   "cell_type": "code",
   "execution_count": 15,
   "id": "5bd54697",
   "metadata": {},
   "outputs": [
    {
     "name": "stdout",
     "output_type": "stream",
     "text": [
      "Welcome User\n",
      "Output of  function --> ,  Datascience\n",
      "Thank  you\n"
     ]
    },
    {
     "data": {
      "text/plain": [
       "'Datascience'"
      ]
     },
     "execution_count": 15,
     "metadata": {},
     "output_type": "execute_result"
    }
   ],
   "source": [
    "add('Data' ,  'science')"
   ]
  },
  {
   "cell_type": "markdown",
   "id": "1020c5e1",
   "metadata": {},
   "source": [
    "# create  decorator to find elapsed \n",
    "#  time  to display output of function"
   ]
  },
  {
   "cell_type": "code",
   "execution_count": 18,
   "id": "368d052e",
   "metadata": {},
   "outputs": [],
   "source": [
    "import  time\n",
    "def  Elapsed_time(func):\n",
    "    def wrapper(*args  , **kwargs):\n",
    "        start  =  time.time()\n",
    "        result  =  func(*args  , **kwargs)\n",
    "        print(result)\n",
    "        end  = time.time()\n",
    "        elapsed_time  =  round(end  -  start , 5)\n",
    "        print(f\"Elapsed time  --> {elapsed_time}\")\n",
    "    return  wrapper"
   ]
  },
  {
   "cell_type": "code",
   "execution_count": 19,
   "id": "ff659a7f",
   "metadata": {},
   "outputs": [],
   "source": [
    "## Create  function  to find factorial\n",
    "@Elapsed_time\n",
    "def  factorial(n:int):\n",
    "    fact  =  1\n",
    "    for  i  in range(1 , n+1):\n",
    "        fact  =  fact*i\n",
    "    return fact"
   ]
  },
  {
   "cell_type": "code",
   "execution_count": 18,
   "id": "a99ec57a",
   "metadata": {},
   "outputs": [
    {
     "name": "stdout",
     "output_type": "stream",
     "text": [
      "120\n",
      "Elapsed time  --> 0.00016\n"
     ]
    }
   ],
   "source": [
    "factorial(5)"
   ]
  },
  {
   "cell_type": "code",
   "execution_count": 19,
   "id": "a687f38d",
   "metadata": {},
   "outputs": [
    {
     "name": "stdout",
     "output_type": "stream",
     "text": [
      "40320\n",
      "Elapsed time  --> 0.00048\n"
     ]
    }
   ],
   "source": [
    "factorial(8)"
   ]
  },
  {
   "cell_type": "code",
   "execution_count": null,
   "id": "ec5e304a",
   "metadata": {},
   "outputs": [],
   "source": []
  }
 ],
 "metadata": {
  "kernelspec": {
   "display_name": "venv",
   "language": "python",
   "name": "python3"
  },
  "language_info": {
   "codemirror_mode": {
    "name": "ipython",
    "version": 3
   },
   "file_extension": ".py",
   "mimetype": "text/x-python",
   "name": "python",
   "nbconvert_exporter": "python",
   "pygments_lexer": "ipython3",
   "version": "3.13.7"
  }
 },
 "nbformat": 4,
 "nbformat_minor": 5
}
